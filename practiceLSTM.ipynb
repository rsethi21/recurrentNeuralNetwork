{
  "nbformat": 4,
  "nbformat_minor": 0,
  "metadata": {
    "colab": {
      "provenance": [],
      "authorship_tag": "ABX9TyMNI1VHTO4t/hQ/g9W3cQxz",
      "include_colab_link": true
    },
    "kernelspec": {
      "name": "python3",
      "display_name": "Python 3"
    },
    "language_info": {
      "name": "python"
    },
    "widgets": {
      "application/vnd.jupyter.widget-state+json": {
        "0e2728968c16445f8cae9a36125e6ba2": {
          "model_module": "@jupyter-widgets/controls",
          "model_name": "HBoxModel",
          "model_module_version": "1.5.0",
          "state": {
            "_dom_classes": [],
            "_model_module": "@jupyter-widgets/controls",
            "_model_module_version": "1.5.0",
            "_model_name": "HBoxModel",
            "_view_count": null,
            "_view_module": "@jupyter-widgets/controls",
            "_view_module_version": "1.5.0",
            "_view_name": "HBoxView",
            "box_style": "",
            "children": [
              "IPY_MODEL_a4f7ca04bec4477db6fae4cdcf7dbb01",
              "IPY_MODEL_b12dd7e81e8e4400bd195efcc51f9b27",
              "IPY_MODEL_c9474994a3ab4f4e8248318db9b7147c"
            ],
            "layout": "IPY_MODEL_744fafbeb8f5409eb9e033bab0afca2a"
          }
        },
        "a4f7ca04bec4477db6fae4cdcf7dbb01": {
          "model_module": "@jupyter-widgets/controls",
          "model_name": "HTMLModel",
          "model_module_version": "1.5.0",
          "state": {
            "_dom_classes": [],
            "_model_module": "@jupyter-widgets/controls",
            "_model_module_version": "1.5.0",
            "_model_name": "HTMLModel",
            "_view_count": null,
            "_view_module": "@jupyter-widgets/controls",
            "_view_module_version": "1.5.0",
            "_view_name": "HTMLView",
            "description": "",
            "description_tooltip": null,
            "layout": "IPY_MODEL_d45c6f0c8efd400d8e0b4877e8fa109d",
            "placeholder": "​",
            "style": "IPY_MODEL_3ec059b522af49c28f0a5689e3f288ed",
            "value": "Epoch 1999: 100%"
          }
        },
        "b12dd7e81e8e4400bd195efcc51f9b27": {
          "model_module": "@jupyter-widgets/controls",
          "model_name": "FloatProgressModel",
          "model_module_version": "1.5.0",
          "state": {
            "_dom_classes": [],
            "_model_module": "@jupyter-widgets/controls",
            "_model_module_version": "1.5.0",
            "_model_name": "FloatProgressModel",
            "_view_count": null,
            "_view_module": "@jupyter-widgets/controls",
            "_view_module_version": "1.5.0",
            "_view_name": "ProgressView",
            "bar_style": "success",
            "description": "",
            "description_tooltip": null,
            "layout": "IPY_MODEL_7890668e36d647c2acb781845e2e7802",
            "max": 2,
            "min": 0,
            "orientation": "horizontal",
            "style": "IPY_MODEL_f208bc5d19754e3cab9eb4dad92a4d3e",
            "value": 2
          }
        },
        "c9474994a3ab4f4e8248318db9b7147c": {
          "model_module": "@jupyter-widgets/controls",
          "model_name": "HTMLModel",
          "model_module_version": "1.5.0",
          "state": {
            "_dom_classes": [],
            "_model_module": "@jupyter-widgets/controls",
            "_model_module_version": "1.5.0",
            "_model_name": "HTMLModel",
            "_view_count": null,
            "_view_module": "@jupyter-widgets/controls",
            "_view_module_version": "1.5.0",
            "_view_name": "HTMLView",
            "description": "",
            "description_tooltip": null,
            "layout": "IPY_MODEL_6eb7e4368197467289a56fe64d5b83e9",
            "placeholder": "​",
            "style": "IPY_MODEL_73f55d9c41b547eeb0b09e680f72d689",
            "value": " 2/2 [00:00&lt;00:00, 53.40it/s, v_num=0]"
          }
        },
        "744fafbeb8f5409eb9e033bab0afca2a": {
          "model_module": "@jupyter-widgets/base",
          "model_name": "LayoutModel",
          "model_module_version": "1.2.0",
          "state": {
            "_model_module": "@jupyter-widgets/base",
            "_model_module_version": "1.2.0",
            "_model_name": "LayoutModel",
            "_view_count": null,
            "_view_module": "@jupyter-widgets/base",
            "_view_module_version": "1.2.0",
            "_view_name": "LayoutView",
            "align_content": null,
            "align_items": null,
            "align_self": null,
            "border": null,
            "bottom": null,
            "display": "inline-flex",
            "flex": null,
            "flex_flow": "row wrap",
            "grid_area": null,
            "grid_auto_columns": null,
            "grid_auto_flow": null,
            "grid_auto_rows": null,
            "grid_column": null,
            "grid_gap": null,
            "grid_row": null,
            "grid_template_areas": null,
            "grid_template_columns": null,
            "grid_template_rows": null,
            "height": null,
            "justify_content": null,
            "justify_items": null,
            "left": null,
            "margin": null,
            "max_height": null,
            "max_width": null,
            "min_height": null,
            "min_width": null,
            "object_fit": null,
            "object_position": null,
            "order": null,
            "overflow": null,
            "overflow_x": null,
            "overflow_y": null,
            "padding": null,
            "right": null,
            "top": null,
            "visibility": null,
            "width": "100%"
          }
        },
        "d45c6f0c8efd400d8e0b4877e8fa109d": {
          "model_module": "@jupyter-widgets/base",
          "model_name": "LayoutModel",
          "model_module_version": "1.2.0",
          "state": {
            "_model_module": "@jupyter-widgets/base",
            "_model_module_version": "1.2.0",
            "_model_name": "LayoutModel",
            "_view_count": null,
            "_view_module": "@jupyter-widgets/base",
            "_view_module_version": "1.2.0",
            "_view_name": "LayoutView",
            "align_content": null,
            "align_items": null,
            "align_self": null,
            "border": null,
            "bottom": null,
            "display": null,
            "flex": null,
            "flex_flow": null,
            "grid_area": null,
            "grid_auto_columns": null,
            "grid_auto_flow": null,
            "grid_auto_rows": null,
            "grid_column": null,
            "grid_gap": null,
            "grid_row": null,
            "grid_template_areas": null,
            "grid_template_columns": null,
            "grid_template_rows": null,
            "height": null,
            "justify_content": null,
            "justify_items": null,
            "left": null,
            "margin": null,
            "max_height": null,
            "max_width": null,
            "min_height": null,
            "min_width": null,
            "object_fit": null,
            "object_position": null,
            "order": null,
            "overflow": null,
            "overflow_x": null,
            "overflow_y": null,
            "padding": null,
            "right": null,
            "top": null,
            "visibility": null,
            "width": null
          }
        },
        "3ec059b522af49c28f0a5689e3f288ed": {
          "model_module": "@jupyter-widgets/controls",
          "model_name": "DescriptionStyleModel",
          "model_module_version": "1.5.0",
          "state": {
            "_model_module": "@jupyter-widgets/controls",
            "_model_module_version": "1.5.0",
            "_model_name": "DescriptionStyleModel",
            "_view_count": null,
            "_view_module": "@jupyter-widgets/base",
            "_view_module_version": "1.2.0",
            "_view_name": "StyleView",
            "description_width": ""
          }
        },
        "7890668e36d647c2acb781845e2e7802": {
          "model_module": "@jupyter-widgets/base",
          "model_name": "LayoutModel",
          "model_module_version": "1.2.0",
          "state": {
            "_model_module": "@jupyter-widgets/base",
            "_model_module_version": "1.2.0",
            "_model_name": "LayoutModel",
            "_view_count": null,
            "_view_module": "@jupyter-widgets/base",
            "_view_module_version": "1.2.0",
            "_view_name": "LayoutView",
            "align_content": null,
            "align_items": null,
            "align_self": null,
            "border": null,
            "bottom": null,
            "display": null,
            "flex": "2",
            "flex_flow": null,
            "grid_area": null,
            "grid_auto_columns": null,
            "grid_auto_flow": null,
            "grid_auto_rows": null,
            "grid_column": null,
            "grid_gap": null,
            "grid_row": null,
            "grid_template_areas": null,
            "grid_template_columns": null,
            "grid_template_rows": null,
            "height": null,
            "justify_content": null,
            "justify_items": null,
            "left": null,
            "margin": null,
            "max_height": null,
            "max_width": null,
            "min_height": null,
            "min_width": null,
            "object_fit": null,
            "object_position": null,
            "order": null,
            "overflow": null,
            "overflow_x": null,
            "overflow_y": null,
            "padding": null,
            "right": null,
            "top": null,
            "visibility": null,
            "width": null
          }
        },
        "f208bc5d19754e3cab9eb4dad92a4d3e": {
          "model_module": "@jupyter-widgets/controls",
          "model_name": "ProgressStyleModel",
          "model_module_version": "1.5.0",
          "state": {
            "_model_module": "@jupyter-widgets/controls",
            "_model_module_version": "1.5.0",
            "_model_name": "ProgressStyleModel",
            "_view_count": null,
            "_view_module": "@jupyter-widgets/base",
            "_view_module_version": "1.2.0",
            "_view_name": "StyleView",
            "bar_color": null,
            "description_width": ""
          }
        },
        "6eb7e4368197467289a56fe64d5b83e9": {
          "model_module": "@jupyter-widgets/base",
          "model_name": "LayoutModel",
          "model_module_version": "1.2.0",
          "state": {
            "_model_module": "@jupyter-widgets/base",
            "_model_module_version": "1.2.0",
            "_model_name": "LayoutModel",
            "_view_count": null,
            "_view_module": "@jupyter-widgets/base",
            "_view_module_version": "1.2.0",
            "_view_name": "LayoutView",
            "align_content": null,
            "align_items": null,
            "align_self": null,
            "border": null,
            "bottom": null,
            "display": null,
            "flex": null,
            "flex_flow": null,
            "grid_area": null,
            "grid_auto_columns": null,
            "grid_auto_flow": null,
            "grid_auto_rows": null,
            "grid_column": null,
            "grid_gap": null,
            "grid_row": null,
            "grid_template_areas": null,
            "grid_template_columns": null,
            "grid_template_rows": null,
            "height": null,
            "justify_content": null,
            "justify_items": null,
            "left": null,
            "margin": null,
            "max_height": null,
            "max_width": null,
            "min_height": null,
            "min_width": null,
            "object_fit": null,
            "object_position": null,
            "order": null,
            "overflow": null,
            "overflow_x": null,
            "overflow_y": null,
            "padding": null,
            "right": null,
            "top": null,
            "visibility": null,
            "width": null
          }
        },
        "73f55d9c41b547eeb0b09e680f72d689": {
          "model_module": "@jupyter-widgets/controls",
          "model_name": "DescriptionStyleModel",
          "model_module_version": "1.5.0",
          "state": {
            "_model_module": "@jupyter-widgets/controls",
            "_model_module_version": "1.5.0",
            "_model_name": "DescriptionStyleModel",
            "_view_count": null,
            "_view_module": "@jupyter-widgets/base",
            "_view_module_version": "1.2.0",
            "_view_name": "StyleView",
            "description_width": ""
          }
        }
      }
    }
  },
  "cells": [
    {
      "cell_type": "markdown",
      "metadata": {
        "id": "view-in-github",
        "colab_type": "text"
      },
      "source": [
        "<a href=\"https://colab.research.google.com/github/rsethi21/recurrentNeuralNetwork/blob/main/practiceLSTM.ipynb\" target=\"_parent\"><img src=\"https://colab.research.google.com/assets/colab-badge.svg\" alt=\"Open In Colab\"/></a>"
      ]
    },
    {
      "cell_type": "markdown",
      "source": [
        "Tutorial from StatQuest: https://www.youtube.com/watch?v=RHGiXPuo_pI\n",
        "\n",
        "Explanation: https://colah.github.io/posts/2015-08-Understanding-LSTMs/\n",
        "\n",
        "Explanation of number of units and layers: https://datascience.stackexchange.com/questions/24909/the-model-of-lstm-with-more-than-one-unit\n",
        "\n",
        "IDPs Motivation Paper: https://pkhlab.sites.luc.edu/papers/Myofilament-associated_proteins.pdf"
      ],
      "metadata": {
        "id": "BG55L6ciwzXc"
      }
    },
    {
      "cell_type": "markdown",
      "source": [
        "Adapt to incoporate multivariate data"
      ],
      "metadata": {
        "id": "qgwRuVHAL0FP"
      }
    },
    {
      "cell_type": "markdown",
      "source": [
        "# Create Model"
      ],
      "metadata": {
        "id": "qE0jz9RgLsh8"
      }
    },
    {
      "cell_type": "code",
      "source": [
        "# installations\n",
        "!pip3 install lightning"
      ],
      "metadata": {
        "id": "232sr7oLxoYV"
      },
      "execution_count": null,
      "outputs": []
    },
    {
      "cell_type": "code",
      "execution_count": null,
      "metadata": {
        "id": "0fd1bdf1wsAF"
      },
      "outputs": [],
      "source": [
        "# imports\n",
        "import torch # allows us to create tensors for inputs and weights\n",
        "import torch.nn as nn # allows us to combine all tensors into a neural network\n",
        "import torch.nn.functional as f # activation functions\n",
        "from torch.optim import Adam # fit neural network to data; similar to SGD but faster\n",
        "\n",
        "import lightning as L # allows to streamline training process\n",
        "from torch.utils.data import TensorDataset, DataLoader # allows us to manage the tensors from the neural network"
      ]
    },
    {
      "cell_type": "code",
      "source": [
        "# create class for new model; inherits from lightning\n",
        "class LSTMHardCoded(L.LightningModule):\n",
        "  def __init__(self):\n",
        "    '''\n",
        "    Create and initialize weight and bias tensors\n",
        "    '''\n",
        "    super().__init__() # access lightning modules\n",
        "    mean = torch.tensor(0.0) # normal standard distribution mean\n",
        "    std = torch.tensor(1.0) # normal standard distrubution standard deviation\n",
        "\n",
        "    self.wlr1 = nn.Parameter(torch.normal(mean=mean, std=std), requires_grad=True) # randomly initialize weight matrix to SND; True allows for optimization\n",
        "    self.wlr2 = nn.Parameter(torch.normal(mean=mean, std=std), requires_grad=True)\n",
        "    self.blr1 = nn.Parameter(torch.tensor(0.), requires_grad=True) # create bias as 0 (ideally stays this way) and set to optimizable\n",
        "\n",
        "    self.wpr1 = nn.Parameter(torch.normal(mean=mean, std=std), requires_grad=True)\n",
        "    self.wpr2 = nn.Parameter(torch.normal(mean=mean, std=std), requires_grad=True)\n",
        "    self.bpr1 = nn.Parameter(torch.tensor(0.), requires_grad=True)\n",
        "\n",
        "    self.wp1 = nn.Parameter(torch.normal(mean=mean, std=std), requires_grad=True)\n",
        "    self.wp2 = nn.Parameter(torch.normal(mean=mean, std=std), requires_grad=True)\n",
        "    self.bp1 = nn.Parameter(torch.tensor(0.), requires_grad=True)\n",
        "\n",
        "    self.wo1 = nn.Parameter(torch.normal(mean=mean, std=std), requires_grad=True)\n",
        "    self.wo2 = nn.Parameter(torch.normal(mean=mean, std=std), requires_grad=True)\n",
        "    self.bo1 = nn.Parameter(torch.tensor(0.), requires_grad=True)\n",
        "\n",
        "  def lstm_unit(self, input_value, long_memory, short_memory):\n",
        "    '''\n",
        "    Perform LSTM unit math\n",
        "    input_value: input sequential data item\n",
        "    long_memory: current long_term memory\n",
        "    short_memory: current short_term memory\n",
        "    '''\n",
        "\n",
        "    # stage 1 (forget gate) --> determine what percentage of long-term should be recalled\n",
        "    long_remember = short_memory*self.wlr1 + input_value*self.wlr2 + self.blr1 # basically calculate how much of the past states need to be remembered\n",
        "    long_remember_percent = torch.sigmoid(long_remember) # converts this to a percent and also adds nonlinearity\n",
        "\n",
        "    # stage 2 (input gate) --> determine new potential long-term memory given last discovery\n",
        "    potential_long_remember = short_memory*self.wpr1 + input_value*self.wpr2 + self.bpr1 # basically checking to see what new memory proportion of data must be stored for future reference\n",
        "    potential_long_remember_percent = torch.sigmoid(potential_long_remember) # converts this to a percent\n",
        "\n",
        "    potential_memory = short_memory*self.wp1 + input_value*self.wp2 + self.bp1 # calculating what to remember from this new data point when considering it in comparison to old output\n",
        "    potential_memory = torch.tanh(potential_memory) # activation function\n",
        "\n",
        "    updated_long_memory = long_memory * long_remember_percent + potential_long_remember_percent * potential_memory # update new long-term memory of sequential data\n",
        "\n",
        "    # stage 3 (output gate) --> determine new short-term memory given new information from past and what amount to remember from it\n",
        "    output = short_memory * self.wo1 + input_value * self.wo2 # output value intialization\n",
        "    output_percent = torch.sigmoid(output) # percent of output to retain\n",
        "\n",
        "    updated_short_memory = torch.tanh(updated_long_memory) * output_percent # calculate portion of LTM that should encode for new STM\n",
        "\n",
        "    return [updated_long_memory, updated_short_memory]\n",
        "\n",
        "  def forward(self, input):\n",
        "    '''\n",
        "    Foward pass through unrolled LSTM\n",
        "    '''\n",
        "    long_memory = 0\n",
        "    short_memory = 0\n",
        "\n",
        "    # feed the middle block data into the model sequentially\n",
        "    for data in input:\n",
        "      long_memory, short_memory = self.lstm_unit(data, long_memory, short_memory)\n",
        "  \n",
        "    return short_memory\n",
        "\n",
        "  def configure_optimizers(self):\n",
        "    '''\n",
        "    Configure adam optimizer\n",
        "    '''\n",
        "    return Adam(self.parameters())\n",
        "\n",
        "  def training_step(self, batch, batch_idx):\n",
        "    '''\n",
        "    calculate the loss and log training progress (use RSS)\n",
        "    '''\n",
        "    input_i, label_i = batch\n",
        "    output_i = self.forward(input_i[0])\n",
        "    loss = (output_i - label_i)**2 # RSS individual item\n",
        "\n",
        "    self.log(\"train_loss\", loss) # inherited from lightning module\n",
        "\n",
        "    return loss\n"
      ],
      "metadata": {
        "id": "I4Po4Pahwy-d"
      },
      "execution_count": null,
      "outputs": []
    },
    {
      "cell_type": "markdown",
      "source": [
        "# Create an instance"
      ],
      "metadata": {
        "id": "jaRd1UdzLvot"
      }
    },
    {
      "cell_type": "code",
      "source": [
        "model = LSTMHardCoded()"
      ],
      "metadata": {
        "id": "TLrPUhfqLDlH"
      },
      "execution_count": null,
      "outputs": []
    },
    {
      "cell_type": "code",
      "source": [
        "inputs = torch.tensor([[0., 0.5, 0.25, 1.], [1., 0.5, 0.25, 1.]]) # input data instances\n",
        "labels = torch.tensor([0., 1.]) # oucome labels/regressions"
      ],
      "metadata": {
        "id": "lkwbLs5vGXub"
      },
      "execution_count": null,
      "outputs": []
    },
    {
      "cell_type": "code",
      "source": [
        "dataset = TensorDataset(inputs, labels) # create dataset\n",
        "dataloader = DataLoader(dataset) # access data in batches, shuffle data each epoch, easy to use fraction of data"
      ],
      "metadata": {
        "id": "_Tq2SGIiKbKo"
      },
      "execution_count": null,
      "outputs": []
    },
    {
      "cell_type": "code",
      "source": [
        "trainer = L.Trainer(max_epochs=2000) # create a trainer; backpropagation 2000 times\n",
        "trainer.fit(model, train_dataloaders=dataloader)"
      ],
      "metadata": {
        "id": "72Ie86awKwCg",
        "outputId": "2cfa988f-aea7-4450-bc01-9678636bb166",
        "colab": {
          "base_uri": "https://localhost:8080/",
          "height": 590,
          "referenced_widgets": [
            "0e2728968c16445f8cae9a36125e6ba2",
            "a4f7ca04bec4477db6fae4cdcf7dbb01",
            "b12dd7e81e8e4400bd195efcc51f9b27",
            "c9474994a3ab4f4e8248318db9b7147c",
            "744fafbeb8f5409eb9e033bab0afca2a",
            "d45c6f0c8efd400d8e0b4877e8fa109d",
            "3ec059b522af49c28f0a5689e3f288ed",
            "7890668e36d647c2acb781845e2e7802",
            "f208bc5d19754e3cab9eb4dad92a4d3e",
            "6eb7e4368197467289a56fe64d5b83e9",
            "73f55d9c41b547eeb0b09e680f72d689"
          ]
        }
      },
      "execution_count": null,
      "outputs": [
        {
          "output_type": "stream",
          "name": "stderr",
          "text": [
            "INFO: GPU available: False, used: False\n",
            "INFO:lightning.pytorch.utilities.rank_zero:GPU available: False, used: False\n",
            "INFO: TPU available: False, using: 0 TPU cores\n",
            "INFO:lightning.pytorch.utilities.rank_zero:TPU available: False, using: 0 TPU cores\n",
            "INFO: IPU available: False, using: 0 IPUs\n",
            "INFO:lightning.pytorch.utilities.rank_zero:IPU available: False, using: 0 IPUs\n",
            "INFO: HPU available: False, using: 0 HPUs\n",
            "INFO:lightning.pytorch.utilities.rank_zero:HPU available: False, using: 0 HPUs\n",
            "WARNING: Missing logger folder: /content/lightning_logs\n",
            "WARNING:lightning.pytorch.loggers.tensorboard:Missing logger folder: /content/lightning_logs\n",
            "INFO: \n",
            "  | Name | Type | Params\n",
            "------------------------------\n",
            "------------------------------\n",
            "12        Trainable params\n",
            "0         Non-trainable params\n",
            "12        Total params\n",
            "0.000     Total estimated model params size (MB)\n",
            "INFO:lightning.pytorch.callbacks.model_summary:\n",
            "  | Name | Type | Params\n",
            "------------------------------\n",
            "------------------------------\n",
            "12        Trainable params\n",
            "0         Non-trainable params\n",
            "12        Total params\n",
            "0.000     Total estimated model params size (MB)\n",
            "/usr/local/lib/python3.9/dist-packages/lightning/pytorch/loops/fit_loop.py:280: PossibleUserWarning: The number of training batches (2) is smaller than the logging interval Trainer(log_every_n_steps=50). Set a lower value for log_every_n_steps if you want to see logs for the training epoch.\n",
            "  rank_zero_warn(\n"
          ]
        },
        {
          "output_type": "display_data",
          "data": {
            "text/plain": [
              "Training: 0it [00:00, ?it/s]"
            ],
            "application/vnd.jupyter.widget-view+json": {
              "version_major": 2,
              "version_minor": 0,
              "model_id": "0e2728968c16445f8cae9a36125e6ba2"
            }
          },
          "metadata": {}
        },
        {
          "output_type": "stream",
          "name": "stderr",
          "text": [
            "INFO: `Trainer.fit` stopped: `max_epochs=2000` reached.\n",
            "INFO:lightning.pytorch.utilities.rank_zero:`Trainer.fit` stopped: `max_epochs=2000` reached.\n"
          ]
        }
      ]
    },
    {
      "cell_type": "code",
      "source": [
        "model(torch.tensor([0., 0.5, 0.25, 1.])).detach()"
      ],
      "metadata": {
        "id": "9zWKIiqYLe8c",
        "outputId": "6072012d-2def-4e54-9305-3c0ff873c9ad",
        "colab": {
          "base_uri": "https://localhost:8080/"
        }
      },
      "execution_count": null,
      "outputs": [
        {
          "output_type": "execute_result",
          "data": {
            "text/plain": [
              "tensor(0.4263)"
            ]
          },
          "metadata": {},
          "execution_count": 23
        }
      ]
    }
  ]
}